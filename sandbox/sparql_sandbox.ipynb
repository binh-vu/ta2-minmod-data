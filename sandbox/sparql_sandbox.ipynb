{
 "cells": [
  {
   "cell_type": "markdown",
   "metadata": {},
   "source": [
    "# MinMod Knowledge Graph"
   ]
  },
  {
   "cell_type": "markdown",
   "metadata": {},
   "source": [
    "### live at [https://minmod.isi.edu/](https://minmod.isi.edu/) wrapping a [SPARQL Endpoint](https://minmod.isi.edu/sparql).\n",
    "\n",
    "MinMod is the mineral data **Knowledge Graph (KG)**, integrating heterogeneous data sources including: grade-tonnage data extracted from **mine reports**, **scholarly articles**, **mine site databases**, and **structured tables** to provide a rich, queryable graph of mineral site information, and **links** to additional knowledge bases such as [GeoKB](https://geokb.wikibase.cloud/).\n",
    "\n",
    "### data in this knowledge graph adhere to this [schema](https://github.com/DARPA-CRITICALMAAS/schemas/blob/main/ta2/README.md)."
   ]
  },
  {
   "cell_type": "markdown",
   "metadata": {},
   "source": [
    "## Why KGs?"
   ]
  },
  {
   "cell_type": "markdown",
   "metadata": {},
   "source": [
    "<img src=\"demo_imgs/minmod_kg.png\" alt=\"minmod kg\" width=\"250\"/>"
   ]
  },
  {
   "cell_type": "markdown",
   "metadata": {},
   "source": [
    "- KGs\n",
    "  - graphs are natural way to **encode data**\n",
    "  - KGs use **semantic concepts & relationships** to create a **Semantic Network**\n",
    "  - involves **spatial & temporal** information\n",
    "- RDF\n",
    "  - framework within the **Semantic Web** stack\n",
    "  - an extension of WWW, enabling the Web of Data (aka **\"Linked Data\"**)\n",
    "  - Linked Open Data & **FAIR** data principles"
   ]
  },
  {
   "cell_type": "markdown",
   "metadata": {},
   "source": [
    "## Constructing the KG"
   ]
  },
  {
   "cell_type": "markdown",
   "metadata": {},
   "source": [
    "- Extracted data --> `JSON-LD` readers / `TTL` triples reader\n",
    "- Predefined data\n",
    "  - Open set of commodity entities (based on MRDS/GeoKB)\n",
    "  - Finite set of deposit type entities\n",
    "  - Ontology following schema to enforce class & property constraints"
   ]
  },
  {
   "cell_type": "markdown",
   "metadata": {},
   "source": [
    "<img src=\"demo_imgs/minmod_pipeline.png\" alt=\"minmod kg\" width=\"600\"/>"
   ]
  },
  {
   "cell_type": "markdown",
   "metadata": {},
   "source": [
    "## Interacting with the KG\n",
    "MinMod KG `SPARQL` Sandbox"
   ]
  },
  {
   "cell_type": "code",
   "execution_count": null,
   "metadata": {},
   "outputs": [],
   "source": [
    "import json\n",
    "import requests\n",
    "import numpy as np\n",
    "import pandas as pd\n",
    "import matplotlib.pyplot as plt\n",
    "from tqdm import tqdm\n",
    "from collections import Counter\n",
    "import warnings\n",
    "\n",
    "warnings.filterwarnings(\"ignore\")\n",
    "tqdm.pandas()"
   ]
  },
  {
   "cell_type": "code",
   "execution_count": null,
   "metadata": {},
   "outputs": [],
   "source": [
    "def run_sparql_query(query, endpoint='https://minmod.isi.edu/sparql', values=False):\n",
    "    # add prefixes\n",
    "    final_query = '''\n",
    "    PREFIX dcterms: <http://purl.org/dc/terms/>\n",
    "    PREFIX rdfs: <http://www.w3.org/2000/01/rdf-schema#>\n",
    "    PREFIX : <https://minmod.isi.edu/resource/>\n",
    "    PREFIX xsd: <http://www.w3.org/2001/XMLSchema#>\n",
    "    PREFIX owl: <http://www.w3.org/2002/07/owl#>\n",
    "    PREFIX gkbi: <https://geokb.wikibase.cloud/entity/>\n",
    "    PREFIX gkbp: <https://geokb.wikibase.cloud/wiki/Property:>\n",
    "    PREFIX gkbt: <https://geokb.wikibase.cloud/prop/direct/>\n",
    "    \\n''' + query\n",
    "    # send query\n",
    "    response = requests.post(\n",
    "        url=endpoint,\n",
    "        data={'query': final_query},\n",
    "        headers={\n",
    "            \"Content-Type\": \"application/x-www-form-urlencoded\",\n",
    "            \"Accept\": \"application/sparql-results+json\"  # Requesting JSON format\n",
    "        },\n",
    "        verify=False  # Set to False to bypass SSL verification as per the '-k' in curl\n",
    "    )\n",
    "    #print(response.text)\n",
    "    try:\n",
    "        qres = response.json()\n",
    "        if \"results\" in qres and \"bindings\" in qres[\"results\"]:\n",
    "            df = pd.json_normalize(qres['results']['bindings'])\n",
    "            if values:\n",
    "                filtered_columns = df.filter(like='.value').columns\n",
    "                df = df[filtered_columns]\n",
    "            return df\n",
    "    except:\n",
    "        return None"
   ]
  },
  {
   "cell_type": "code",
   "execution_count": null,
   "metadata": {},
   "outputs": [],
   "source": [
    "def run_minmod_query(query, values=False):\n",
    "    return run_sparql_query(query, endpoint='https://minmod.isi.edu/sparql', values=values)\n",
    "\n",
    "def run_geokb_query(query, values=False):\n",
    "    return run_sparql_query(query, endpoint='https://geokb.wikibase.cloud/query/sparql', values=values)"
   ]
  },
  {
   "cell_type": "markdown",
   "metadata": {},
   "source": [
    "--------------------------------------------------------"
   ]
  },
  {
   "attachments": {},
   "cell_type": "markdown",
   "metadata": {},
   "source": [
    "### 0. Count total number of triples in KG"
   ]
  },
  {
   "cell_type": "code",
   "execution_count": null,
   "metadata": {},
   "outputs": [],
   "source": [
    "query = ''' SELECT (COUNT(?s) as ?count)\n",
    "            WHERE {\n",
    "                ?s ?p ?o .\n",
    "            } '''\n",
    "run_minmod_query(query)"
   ]
  },
  {
   "cell_type": "markdown",
   "metadata": {},
   "source": [
    "### 1. Deposit Types"
   ]
  },
  {
   "cell_type": "code",
   "execution_count": null,
   "metadata": {},
   "outputs": [],
   "source": [
    "query = ''' SELECT ?ci ?cn\n",
    "            WHERE {\n",
    "                ?ci a :DepositType .\n",
    "                ?ci :name ?cn .\n",
    "            } '''\n",
    "run_minmod_query(query)"
   ]
  },
  {
   "cell_type": "markdown",
   "metadata": {},
   "source": [
    "### 2. Mineral Inventories"
   ]
  },
  {
   "cell_type": "markdown",
   "metadata": {},
   "source": [
    "#### 2.1. all **inferred** ore values, from all inventories, their grades, cutoff grades, & dates"
   ]
  },
  {
   "cell_type": "code",
   "execution_count": null,
   "metadata": {},
   "outputs": [],
   "source": [
    "query = ''' SELECT ?o_inv ?comm_name ?ore ?grade ?cutoff_grade ?date\n",
    "            WHERE {\n",
    "                ?s :mineral_inventory ?o_inv .\n",
    "                ?o_inv :category :Inferred .\n",
    "                ?o_inv :commodity [ :name ?comm_name ] .\n",
    "                ?o_inv :ore [ :ore_value ?ore ] .\n",
    "                ?o_inv :grade [ :grade_value ?grade ] .\n",
    "                ?o_inv :cutoff_grade [ :grade_value ?cutoff_grade ] .\n",
    "                ?o_inv :date ?date .\n",
    "            } '''\n",
    "run_minmod_query(query, values=True)"
   ]
  },
  {
   "cell_type": "markdown",
   "metadata": {},
   "source": [
    "#### 2.2. all mineral inventories with **inferred** values and grade >= 14"
   ]
  },
  {
   "cell_type": "code",
   "execution_count": null,
   "metadata": {},
   "outputs": [],
   "source": [
    "query = ''' SELECT ?o_inv ?comm_name ?ore ?grade\n",
    "            WHERE {\n",
    "                ?s :mineral_inventory ?o_inv .\n",
    "                ?o_inv :category :Inferred .\n",
    "                ?o_inv :commodity [ :name ?comm_name ] .\n",
    "                ?o_inv :ore [ :ore_value ?ore ] .\n",
    "                ?o_inv :grade [ :grade_value ?grade ] .\n",
    "                FILTER (?grade >= 14)\n",
    "            } '''\n",
    "run_minmod_query(query, values=True)"
   ]
  },
  {
   "cell_type": "markdown",
   "metadata": {},
   "source": [
    "### 3. Commodities"
   ]
  },
  {
   "cell_type": "markdown",
   "metadata": {},
   "source": [
    "#### 3.1. all commodities and their `GeoKB` URIs"
   ]
  },
  {
   "cell_type": "code",
   "execution_count": null,
   "metadata": {},
   "outputs": [],
   "source": [
    "query = ''' SELECT ?ci ?cn ?gi\n",
    "            WHERE {\n",
    "                ?ci a :Commodity .\n",
    "                ?ci :name ?cn .\n",
    "                ?ci owl:sameAs ?gi .\n",
    "            } '''\n",
    "example_df = run_minmod_query(query)\n",
    "example_df"
   ]
  },
  {
   "cell_type": "markdown",
   "metadata": {},
   "source": [
    "#### 3.2. get commodity symboles from `GeoKB`"
   ]
  },
  {
   "cell_type": "code",
   "execution_count": null,
   "metadata": {},
   "outputs": [],
   "source": [
    "def get_symbol_via_sparql(geokb_uri):\n",
    "    query = '''\n",
    "    SELECT ?symb\n",
    "    WHERE {\n",
    "        <%s> gkbt:P17 ?symb .\n",
    "    }''' % (geokb_uri)\n",
    "    result_record = run_geokb_query(query)\n",
    "    if len(result_record) > 0:\n",
    "        return result_record.iloc[0]['symb.value']\n",
    "    return \"\""
   ]
  },
  {
   "cell_type": "code",
   "execution_count": null,
   "metadata": {},
   "outputs": [],
   "source": [
    "pd.set_option('display.max_rows', 500)\n",
    "\n",
    "example_df['geoKB Symbol'] = example_df['gi.value'].progress_apply(get_symbol_via_sparql)\n",
    "example_df"
   ]
  },
  {
   "cell_type": "markdown",
   "metadata": {},
   "source": [
    "------"
   ]
  },
  {
   "cell_type": "markdown",
   "metadata": {},
   "source": [
    "### 4. Mineral Sites"
   ]
  },
  {
   "cell_type": "markdown",
   "metadata": {},
   "source": [
    "#### 4.1. all `MineralSite` instances"
   ]
  },
  {
   "cell_type": "code",
   "execution_count": null,
   "metadata": {},
   "outputs": [],
   "source": [
    "query = ''' SELECT ?ms ?ms_p ?ms_v\n",
    "            WHERE {\n",
    "                ?ms a :MineralSite .\n",
    "                ?ms ?ms_p ?ms_v .\n",
    "            } '''\n",
    "run_minmod_query(query, values=True)"
   ]
  },
  {
   "cell_type": "markdown",
   "metadata": {},
   "source": [
    "#### 4.2. all `MineralSite` URIs with Deposit Type `Sedex Type Deposits`"
   ]
  },
  {
   "cell_type": "code",
   "execution_count": null,
   "metadata": {},
   "outputs": [],
   "source": [
    "query = ''' SELECT ?ms ?ms_p ?ms_v\n",
    "            WHERE {\n",
    "                ?ms a :MineralSite .\n",
    "                ?ms :deposit_type [ :name \"Sedex Type Deposits\" ] .\n",
    "            } '''\n",
    "run_minmod_query(query, values=True)"
   ]
  },
  {
   "cell_type": "markdown",
   "metadata": {},
   "source": [
    "## 5. Grade-Tonnage models"
   ]
  },
  {
   "cell_type": "code",
   "execution_count": null,
   "metadata": {},
   "outputs": [],
   "source": [
    "# todo: ?mineralInventory :date        \"%s\"#^^xsd:dateTime .\n",
    "# todo: use grade-units to convert to single unit/format\n",
    "# todo: use ore-units to convert to single unit/format\n",
    "\n",
    "query_template = '''\n",
    "SELECT ?mineralInventory ?tonnage  ?grade ?inventoryName ?category\n",
    "WHERE {\n",
    "    ?mineralInventory a            :MineralInventory .\n",
    "    ?mineralInventory :id          ?inventoryName .\n",
    "\n",
    "    ?mineralInventory :date        \"%s\" .\n",
    "    \n",
    "    ?mineralInventory :ore         ?ore .\n",
    "    ?ore              :ore_value   ?tonnage .\n",
    "    \n",
    "    ?mineralInventory :grade       ?gradeInfo .\n",
    "    ?gradeInfo        :grade_value ?grade .\n",
    "    \n",
    "    ?mineralInventory :commodity   ?Commodity .\n",
    "    ?Commodity        :name        \"%s\"@en .\n",
    "\n",
    "    ?mineralInventory :category    ?category .\n",
    "}\n",
    "'''"
   ]
  },
  {
   "cell_type": "code",
   "execution_count": null,
   "metadata": {},
   "outputs": [],
   "source": [
    "# todo: this example is f(timestamp, commodity)\n",
    "\n",
    "query_resp_df = run_minmod_query(query_template % ('09-19-2017', 'Zinc'), values=True)\n",
    "mineral_data_df = pd.DataFrame([\n",
    "    {\n",
    "        'mineralInventory': row['mineralInventory.value'],\n",
    "        'name': row['inventoryName.value'],  # This is now the inventory ID/name\n",
    "        'tonnage': float(row['tonnage.value']),\n",
    "        'grade': float(row['grade.value']),\n",
    "        'category': row['category.value']#.split('/')[-1]\n",
    "    }\n",
    "    for index, row in query_resp_df.iterrows()\n",
    "])\n",
    "mineral_data_df"
   ]
  },
  {
   "cell_type": "code",
   "execution_count": null,
   "metadata": {},
   "outputs": [],
   "source": [
    "tonnages = mineral_data_df['tonnage'].values\n",
    "grades = mineral_data_df['grade'].values\n",
    "names = mineral_data_df['name'].values\n",
    "\n",
    "# todo: convert tonnage to million metric tons using unit-transformation\n",
    "tonnages_million_metric_tons = tonnages / 1e6\n",
    "\n",
    "plt.figure(figsize=(6, 4))\n",
    "scatter = plt.scatter(tonnages_million_metric_tons, grades, marker='x', color='r')\n",
    "\n",
    "# loga scale\n",
    "plt.xscale('log')\n",
    "\n",
    "# todo: units should be evaluated and converted\n",
    "plt.xlabel('Tonnage, in million metric tons')\n",
    "plt.ylabel('Grade, in percent (Zn)')\n",
    "# todo, commodity name comes from query\n",
    "plt.title('Grade-Tonnage Model of Mineral Deposits (Zinc)')\n",
    "\n",
    "plt.grid(True, which=\"both\", ls=\"--\")\n",
    "for i, txt in enumerate(names):\n",
    "    plt.annotate(txt, (tonnages_million_metric_tons[i], grades[i]))\n",
    "plt.show()"
   ]
  }
 ],
 "metadata": {
  "kernelspec": {
   "display_name": "Python 3 (ipykernel)",
   "language": "python",
   "name": "python3"
  },
  "language_info": {
   "codemirror_mode": {
    "name": "ipython",
    "version": 3
   },
   "file_extension": ".py",
   "mimetype": "text/x-python",
   "name": "python",
   "nbconvert_exporter": "python",
   "pygments_lexer": "ipython3",
   "version": "3.10.13"
  }
 },
 "nbformat": 4,
 "nbformat_minor": 4
}
